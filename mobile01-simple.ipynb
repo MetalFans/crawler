{
 "cells": [
  {
   "cell_type": "code",
   "execution_count": 1,
   "metadata": {
    "collapsed": true
   },
   "outputs": [],
   "source": [
    "import random\n",
    "import re\n",
    "import requests\n",
    "import time\n",
    "import math\n",
    "import numpy as np\n",
    "import operator\n",
    "from bs4 import BeautifulSoup as bs\n",
    "from collections import Counter\n",
    "import os"
   ]
  },
  {
   "cell_type": "code",
   "execution_count": 17,
   "metadata": {
    "collapsed": false
   },
   "outputs": [],
   "source": [
    "import requests\n",
    "import re\n",
    "import time\n",
    "from bs4 import BeautifulSoup as bs\n",
    "\n",
    "def removeTag(soup,tag):\n",
    "    [x.extract() for x in soup.select(tag)]\n",
    "\n",
    "def geturl(f, p, rs):\n",
    "    urls = []\n",
    "    domain = 'http://www.mobile01.com/'\n",
    "    url = 'http://www.mobile01.com/waypointtopiclist.php?f={}&p={}'\n",
    "    #url = 'http://www.mobile01.com/waypointforumtopic.php?p={}'\n",
    "    res = rs.get(url.format(f,p))\n",
    "    soup = bs(res.text,'html.parser')\n",
    "    page = int(re.search('共(.+)頁', soup.select('.numbers')[0].encode('utf-8')).group(1))\n",
    "    titles = soup.select('.subject-text')\n",
    "    for t in titles:\n",
    "        urls.append(domain+t.select('a')[0]['href'])\n",
    "    return urls\n",
    "\n",
    "def getFinalPage(url, rs):\n",
    "    res = rs.get(url)\n",
    "    soup = bs(res.text,'lxml')\n",
    "    page = int(re.search('共(.+)頁', soup.select('.numbers')[0].encode('utf-8')).group(1))\n",
    "    return page\n",
    "\n",
    "def getcontent(url, rs):\n",
    "    res = rs.get(url)\n",
    "    soup = bs(res.text,'html.parser')\n",
    "    removeTag(soup,'script')\n",
    "    removeTag(soup,'a')\n",
    "    removeTag(soup,'.rank')\n",
    "    removeTag(soup,'iframe')\n",
    "    removeTag(soup,'.fsb-social-bar')\n",
    "    removeTag(soup,'small')\n",
    "    removeTag(soup,'.comment-content.comment')\n",
    "    removeTag(soup,'.moreincategories.clearfix')\n",
    "    removeTag(soup,'.relativepost.clearfix')\n",
    "    removeTag(soup,'.auth')\n",
    "    removeTag(soup,'.store')\n",
    "    removeTag(soup,'.comments-area')\n",
    "    removeTag(soup,'.sharedaddy.sd-sharing-enabled')\n",
    "    removeTag(soup,'.vcard')\n",
    "    removeTag(soup,'#facebook')\n",
    "    removeTag(soup,'#sidebar')\n",
    "    removeTag(soup,'#jp-relatedposts')\n",
    "    removeTag(soup,'.hot-info')\n",
    "    removeTag(soup,'.agoda-link')\n",
    "    removeTag(soup,'#notice')\n",
    "    removeTag(soup,'.tag')\n",
    "    removeTag(soup,'blockquote')\n",
    "    t = soup.select('.single-post-content')[0]\n",
    "    s =  \"\".join(\"\".join(t.text).split())\n",
    "    return s\n",
    "\n",
    "def getall(f, p):\n",
    "    st = []\n",
    "    ul = geturl(f, p, rs)\n",
    "    for u in ul:\n",
    "        try:\n",
    "            st.append(getcontent(u, rs))\n",
    "        except:\n",
    "            print u\n",
    "        time.sleep(0.5)\n",
    "    return st"
   ]
  },
  {
   "cell_type": "code",
   "execution_count": 24,
   "metadata": {
    "collapsed": false
   },
   "outputs": [],
   "source": [
    "#import autoDict\n",
    "# 一整頁文章一起跑\n",
    "#頁數範圍\n",
    "for f in xrange(196,213):\n",
    "    url = 'http://www.mobile01.com/waypointtopiclist.php?f={}'\n",
    "    try:\n",
    "        fp = getFinalPage(url.format(f), rs)\n",
    "    except IndexError:\n",
    "        continue\n",
    "    for p in xrange(1,fp+1):\n",
    "        with open('./Workspace/data/mobile01/article_%s_%d.txt' %(f,p), 'w') as fw:\n",
    "            #獲取一整頁的文章\n",
    "            news = getall(f, p)\n",
    "            for a in news:\n",
    "                fw.write(a.encode('utf-8')+'\\n')\n",
    "            #autoDict.getwords(news)"
   ]
  },
  {
   "cell_type": "code",
   "execution_count": 5,
   "metadata": {
    "collapsed": false
   },
   "outputs": [
    {
     "name": "stdout",
     "output_type": "stream",
     "text": [
      "6499\n"
     ]
    }
   ],
   "source": [
    "import codecs\n",
    "temp = set()\n",
    "for fname in os.listdir('./Workspace/data/dictionary'):\n",
    "    if 'txt' in fname:\n",
    "        with codecs.open('./Workspace/data/dictionary/%s' %fname, 'r', 'utf-8') as f:\n",
    "            for t in f.readlines():\n",
    "                if not re.search('\\w', t) and u'的' not in t:\n",
    "                    temp.add(t.strip('\\n'))\n",
    "with open('./Workspace/data/dictionary/all/dictionary.txt', 'w') as f:\n",
    "    for x in list(temp):\n",
    "        f.write(x.encode('utf-8')+'\\n')\n",
    "print len(temp)"
   ]
  },
  {
   "cell_type": "code",
   "execution_count": null,
   "metadata": {
    "collapsed": false
   },
   "outputs": [],
   "source": []
  }
 ],
 "metadata": {
  "kernelspec": {
   "display_name": "Python 2",
   "language": "python",
   "name": "python2"
  },
  "language_info": {
   "codemirror_mode": {
    "name": "ipython",
    "version": 2
   },
   "file_extension": ".py",
   "mimetype": "text/x-python",
   "name": "python",
   "nbconvert_exporter": "python",
   "pygments_lexer": "ipython2",
   "version": "2.7.11"
  }
 },
 "nbformat": 4,
 "nbformat_minor": 0
}
