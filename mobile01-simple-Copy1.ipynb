{
 "cells": [
  {
   "cell_type": "code",
   "execution_count": 1,
   "metadata": {
    "collapsed": true
   },
   "outputs": [],
   "source": [
    "import random\n",
    "import re\n",
    "import requests\n",
    "import time\n",
    "import math\n",
    "import numpy as np\n",
    "import operator\n",
    "from bs4 import BeautifulSoup as bs\n",
    "from collections import Counter\n",
    "import os"
   ]
  },
  {
   "cell_type": "code",
   "execution_count": 2,
   "metadata": {
    "collapsed": false
   },
   "outputs": [],
   "source": [
    "def deleteBadWords(StrIn):\n",
    "    Str_BadWords = u'延伸閱讀|連絡方式|電話預約|電話|營業時間|週一|週二|週三|週四|週五|週六|週日|周一|周二|周三|周四|周五|周六|\\\n",
    "                    |周日|假日|公休|平日|地址|粉絲團|星期|禮拜|時間限制|您或許對這些文章有興趣|造訪日期|全年無休|最後點餐|營業|AM|PM|上一篇|下一篇|\\\n",
    "                    |分享此文|您可能喜歡的文章|懶人包|臉書|Facebook|facebook|FB|fb|全世界便宜住宿看這兒|下載愛食記App隨時觀看|按個讚啦|喜歡我的分享嗎|\\\n",
    "                    |瘋台灣民宿網|官方網站|瀏覽人次|最新消息|餐廳名稱|消費時間|無圖文版|網誌|Postedonby|新鮮關注回聲|Christabelle的藝想世界部落格由製作|\\\n",
    "                    |也許對這些文章也有興趣|發表迴響|電子郵件|必要欄位標記|電子郵件|個人網站|輸入圖片顯示文字好證明你不是機器人|站內搜尋分類|最新動態|\\\n",
    "                    |並不會被公開|你的位址 |迴響名稱|用餐日期|留言|載入中|文章文章|粉絲頁|發表|每人平均價位|按個讚|推薦你閱讀|Instagram|instagram|\\\n",
    "                    |美食地圖|版權所有|網友回應|歡迎加入|標籤|著作權聲明|非經授權|不得轉載'\n",
    "    strClean = re.sub(Str_BadWords,'',StrIn)\n",
    "    return strClean\n",
    "\n",
    "def EnglishFullToHalf(StrIn):\n",
    "    def transform(ele):\n",
    "        alphabetInt = int(repr(ele.group('number'))[4:8],16)\n",
    "        transAlphabeInt = alphabetInt - 65248\n",
    "        return binascii.a2b_hex(hex(transAlphabeInt)[2:4])\n",
    "    pattern = re.sub(u'(?P<number>[\\uff21-\\uff3a\\uff41-\\uff5a])', transform, StrIn)\n",
    "    return pattern\n",
    "                \n",
    "def retain_English_Chinese_Arabic_numerals(StrIn):\n",
    "    Str_English_Chinese = u'([^ 0-9a-zA-Zａ-ｚＡ-Ｚ\\u4E00-\\u9FCC]+)'\n",
    "    #Str_English_Chinese = u'([^a-z^A-Z^ａ-ｚ^Ａ-Ｚ^^0-9^０-９^\\u3105-\\u3129^\\u4E00-\\u9FCC]+)'\n",
    "    #\\u3105-\\u3129為所有注音符號 \n",
    "    #\\u4E00-\\u9FCC為所有中文\n",
    "    strClean = re.sub(Str_English_Chinese,'',StrIn)\n",
    "    return strClean\n",
    "\n",
    "def removeSentimentInAds(StrIn):\n",
    "    pattern = u'.*(喜歡|推薦|喜愛).{0,6}(文章|本文|介紹)'\n",
    "    def sub(match):\n",
    "        string = match.group(0)\n",
    "        type1 = match.group(1) if match.group(1) else ''\n",
    "        r = string.replace(type1,'')\n",
    "        return r\n",
    "    result = re.sub(pattern, sub, StrIn)\n",
    "    return result\n",
    "def removeTag(soup,tag):\n",
    "    [x.extract() for x in soup.select(tag)]\n",
    "\n",
    "brand=['HTC','Sony','Asus','Acer','Samsung','LG','Motorola','InFocus','GSmart','OPPO','TWM','OKWAP','HUAWEI']\n",
    "model=['A','B','C','D','E','F','G','H','I','J','K','L','M','N','O','P','Q','R','S','T','U','V','W','X','Y','Z']\n",
    "rs = requests.session()\n",
    "rs.headers.update({\n",
    "        'Host':'www.mobile01.com',\n",
    "        \"User-Agent\": \"Mozilla/5.0 (Linux; Android 4.{0}.{1};{2} {3}{4}-{5}{6}) \\\n",
    "        AppleWebKit/537.36 (KHTML, like Gecko) Version/{7}.0 Chrome/30.0.0.0 Mobile Safari/537.36\"\\\n",
    "        .format(random.randint(0,9),random.randint(0,9),brand[random.randint(0,len(brand)-1)],\\\n",
    "        model[random.randint(0,len(model)-1)],random.randint(1,99),model[random.randint(0,len(model)-1)],\\\n",
    "        random.randint(799,1599),random.randint(250,9999))\n",
    "    })"
   ]
  },
  {
   "cell_type": "code",
   "execution_count": 17,
   "metadata": {
    "collapsed": false
   },
   "outputs": [],
   "source": [
    "import requests\n",
    "import re\n",
    "import random\n",
    "import time\n",
    "from bs4 import BeautifulSoup as bs\n",
    "\n",
    "def geturl(f, p, rs):\n",
    "    urls = []\n",
    "    domain = 'http://www.mobile01.com/'\n",
    "    url = 'http://www.mobile01.com/waypointtopiclist.php?f={}&p={}'\n",
    "    #url = 'http://www.mobile01.com/waypointforumtopic.php?p={}'\n",
    "    res = rs.get(url.format(f,p))\n",
    "    soup = bs(res.text,'html.parser')\n",
    "    page = int(re.search('共(.+)頁', soup.select('.numbers')[0].encode('utf-8')).group(1))\n",
    "    titles = soup.select('.subject-text')\n",
    "    for t in titles:\n",
    "        urls.append(domain+t.select('a')[0]['href'])\n",
    "    return urls\n",
    "\n",
    "def getFinalPage(url, rs):\n",
    "    res = rs.get(url)\n",
    "    soup = bs(res.text,'lxml')\n",
    "    page = int(re.search('共(.+)頁', soup.select('.numbers')[0].encode('utf-8')).group(1))\n",
    "    return page\n",
    "\n",
    "def getcontent(url, rs):\n",
    "    res = rs.get(url)\n",
    "    soup = bs(res.text,'html.parser')\n",
    "    removeTag(soup,'script')\n",
    "    removeTag(soup,'a')\n",
    "    removeTag(soup,'.rank')\n",
    "    removeTag(soup,'iframe')\n",
    "    removeTag(soup,'.fsb-social-bar')\n",
    "    removeTag(soup,'small')\n",
    "    removeTag(soup,'.comment-content.comment')\n",
    "    removeTag(soup,'.moreincategories.clearfix')\n",
    "    removeTag(soup,'.relativepost.clearfix')\n",
    "    removeTag(soup,'.auth')\n",
    "    removeTag(soup,'.store')\n",
    "    removeTag(soup,'.comments-area')\n",
    "    removeTag(soup,'.sharedaddy.sd-sharing-enabled')\n",
    "    removeTag(soup,'.vcard')\n",
    "    removeTag(soup,'#facebook')\n",
    "    removeTag(soup,'#sidebar')\n",
    "    removeTag(soup,'#jp-relatedposts')\n",
    "    removeTag(soup,'.hot-info')\n",
    "    removeTag(soup,'.agoda-link')\n",
    "    removeTag(soup,'#notice')\n",
    "    removeTag(soup,'.tag')\n",
    "    removeTag(soup,'blockquote')\n",
    "    t = soup.select('.single-post-content')[0]\n",
    "    s =  \"\".join(\"\".join(t.text).split())\n",
    "    return s\n",
    "\n",
    "def getall(f, p):\n",
    "    st = []\n",
    "    ul = geturl(f, p, rs)\n",
    "    for u in ul:\n",
    "        try:\n",
    "            st.append(getcontent(u, rs))\n",
    "        except:\n",
    "            print u\n",
    "        time.sleep(0.5)\n",
    "    return st"
   ]
  },
  {
   "cell_type": "code",
   "execution_count": 24,
   "metadata": {
    "collapsed": false
   },
   "outputs": [],
   "source": [
    "#import autoDict\n",
    "# 一整頁文章一起跑\n",
    "#頁數範圍\n",
    "for f in xrange(196,213):\n",
    "    url = 'http://www.mobile01.com/waypointtopiclist.php?f={}'\n",
    "    try:\n",
    "        fp = getFinalPage(url.format(f), rs)\n",
    "    except IndexError:\n",
    "        continue\n",
    "    for p in xrange(1,fp+1):\n",
    "        with open('./Workspace/data/mobile01/article_%s_%d.txt' %(f,p), 'w') as fw:\n",
    "            #獲取一整頁的文章\n",
    "            news = getall(f, p)\n",
    "            for a in news:\n",
    "                fw.write(a.encode('utf-8')+'\\n')\n",
    "            #autoDict.getwords(news)"
   ]
  },
  {
   "cell_type": "code",
   "execution_count": 5,
   "metadata": {
    "collapsed": false
   },
   "outputs": [
    {
     "name": "stdout",
     "output_type": "stream",
     "text": [
      "6499\n"
     ]
    }
   ],
   "source": [
    "import codecs\n",
    "temp = set()\n",
    "for fname in os.listdir('./Workspace/data/dictionary'):\n",
    "    if 'txt' in fname:\n",
    "        with codecs.open('./Workspace/data/dictionary/%s' %fname, 'r', 'utf-8') as f:\n",
    "            for t in f.readlines():\n",
    "                if not re.search('\\w', t) and u'的' not in t:\n",
    "                    temp.add(t.strip('\\n'))\n",
    "with open('./Workspace/data/dictionary/all/dictionary.txt', 'w') as f:\n",
    "    for x in list(temp):\n",
    "        f.write(x.encode('utf-8')+'\\n')\n",
    "print len(temp)"
   ]
  },
  {
   "cell_type": "code",
   "execution_count": null,
   "metadata": {
    "collapsed": false
   },
   "outputs": [],
   "source": []
  }
 ],
 "metadata": {
  "kernelspec": {
   "display_name": "Python 2",
   "language": "python",
   "name": "python2"
  },
  "language_info": {
   "codemirror_mode": {
    "name": "ipython",
    "version": 2
   },
   "file_extension": ".py",
   "mimetype": "text/x-python",
   "name": "python",
   "nbconvert_exporter": "python",
   "pygments_lexer": "ipython2",
   "version": "2.7.11"
  }
 },
 "nbformat": 4,
 "nbformat_minor": 0
}
