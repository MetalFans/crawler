{
 "cells": [
  {
   "cell_type": "code",
   "execution_count": 4,
   "metadata": {
    "collapsed": false
   },
   "outputs": [
    {
     "name": "stdout",
     "output_type": "stream",
     "text": [
      "Manhattan Toy Winkel Rattle and Sensory Teether Activity...\n",
      "Mega Bloks First Builders Big Building Bag, 80-Piece...\n",
      "VTech Sit-to-Stand Learning Walker (Frustration Free...\n",
      "Baby Einstein Take Along Tunes Musical Toy\n",
      "Nuby Bathtime Fun Bath Toys, Octopus Hoopla, Purple\n",
      "Munchkin Squirtin Bath Toy, Barnyard Friends\n",
      "VTech KidiBeats Kids Drum Set\n",
      "VTech Touch and Swipe Baby Phone\n",
      "Hide N Squeak Eggs\n",
      "Fisher-Price Brilliant Basics Baby's First Blocks\n",
      "Melissa & Doug Deluxe Pounding Bench\n",
      "Nuby Icybite Hard/Soft Teething Keys\n",
      "Munchkin Wind Up Swimming Penguin Bath Toy, Pink\n",
      "Prince Lionheart Jumbo Toy Hammock\n",
      "Baby Einstein Bendy Ball\n",
      "Fisher-Price See 'n Say The Farmer Says Toy\n",
      "Munchkin Bath Toy, School of Fish\n",
      "Fisher-Price Brilliant Basics Rock-a-Stack\n",
      "Fisher-Price Baby's First Blocks and Rock Stack Bundle\n",
      "Vulli Sophie la Girafe\n",
      "VTech Move and Crawl Baby Ball, Orange (Frustration...\n",
      "Bright Starts Lots of Links Accessory Toy\n",
      "Munchkin Ocean Squirts Bath Toys, 4 Pack\n",
      "Boon Pipes Water Pipes Bath Toy\n",
      "Play Mat and Toy Storage Organizer for Baby and Kids...\n",
      "Taf Toys Soft Activity Book, Play Center for Playpen...\n",
      "Newisland Doctor Owl New Generation Musical Toy\n"
     ]
    }
   ],
   "source": [
    "import requests\n",
    "from bs4 import BeautifulSoup\n",
    "head = {'User-Agent':'Mozilla/5.0 (Macintosh; Intel Mac OS X 10_11_3) AppleWebKit/537.36 (KHTML, like Gecko) Chrome/50.0.2661.86 Safari/537.36'}\n",
    "res = requests.get('https://www.amazon.com/s/ref=nb_sb_noss?url=search-alias%3Dbaby-products&field-keywords=toy',headers=head)\n",
    "soup = BeautifulSoup(res.text,'html.parser')\n",
    "titles = soup.select('.a-size-base.a-color-null.s-inline.s-access-title.a-text-normal')\n",
    "for title in titles:\n",
    "    print title.text"
   ]
  }
 ],
 "metadata": {
  "kernelspec": {
   "display_name": "Python 2",
   "language": "python",
   "name": "python2"
  },
  "language_info": {
   "codemirror_mode": {
    "name": "ipython",
    "version": 2
   },
   "file_extension": ".py",
   "mimetype": "text/x-python",
   "name": "python",
   "nbconvert_exporter": "python",
   "pygments_lexer": "ipython2",
   "version": "2.7.11"
  }
 },
 "nbformat": 4,
 "nbformat_minor": 0
}
